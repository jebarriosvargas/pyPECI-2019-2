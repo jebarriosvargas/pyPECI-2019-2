{
 "cells": [
  {
   "cell_type": "markdown",
   "metadata": {},
   "source": [
    "# Jupyter Notebook\n",
    "**OBJ: Familiarizarse con el ambiente de desarrollo de Jupyter-Notebook** "
   ]
  },
  {
   "cell_type": "markdown",
   "metadata": {},
   "source": [
    "## Identificar celdas\n",
    "1) Agregar una celda\n",
    "\n",
    "2) Tipo de celda: *Markdown*\n",
    "\n",
    "  [Markdown-BasicSyntax](https://www.markdownguide.org/basic-syntax/)"
   ]
  },
  {
   "cell_type": "code",
   "execution_count": 1,
   "metadata": {},
   "outputs": [],
   "source": [
    "# 3) Comentarios en python inciando con el símbolo de gato (almohadilla)"
   ]
  },
  {
   "cell_type": "markdown",
   "metadata": {},
   "source": [
    "4) Identificar ícono de:\n",
    "\n",
    "    Save\n",
    "    \n",
    "    Agregar celda\n",
    "    \n",
    "    Cortar/Copy/Paste\n",
    "    \n",
    "    Subir/Bajar celda\n",
    "    \n",
    "    Run/Stop\n",
    "    \n",
    "    Command palette\n",
    "    \n",
    "    "
   ]
  },
  {
   "cell_type": "markdown",
   "metadata": {},
   "source": [
    "5) Kernel: es el motor de ejecución de todo el contenido del Notebook\n",
    "\n",
    "*Ej. Python3*"
   ]
  },
  {
   "cell_type": "code",
   "execution_count": null,
   "metadata": {},
   "outputs": [],
   "source": []
  }
 ],
 "metadata": {
  "kernelspec": {
   "display_name": "Python 3",
   "language": "python",
   "name": "python3"
  },
  "language_info": {
   "codemirror_mode": {
    "name": "ipython",
    "version": 3
   },
   "file_extension": ".py",
   "mimetype": "text/x-python",
   "name": "python",
   "nbconvert_exporter": "python",
   "pygments_lexer": "ipython3",
   "version": "3.6.5"
  }
 },
 "nbformat": 4,
 "nbformat_minor": 2
}
